{
 "cells": [
  {
   "cell_type": "code",
   "execution_count": 6,
   "id": "e3ff195c",
   "metadata": {},
   "outputs": [
    {
     "name": "stderr",
     "output_type": "stream",
     "text": [
      "Registered S3 methods overwritten by 'ggplot2':\n",
      "  method         from \n",
      "  [.quosures     rlang\n",
      "  c.quosures     rlang\n",
      "  print.quosures rlang\n",
      "\n",
      "Registered S3 method overwritten by 'rvest':\n",
      "  method            from\n",
      "  read_xml.response xml2\n",
      "\n",
      "-- \u001b[1mAttaching packages\u001b[22m --------------------------------------- tidyverse 1.2.1 --\n",
      "\n",
      "\u001b[32mv\u001b[39m \u001b[34mggplot2\u001b[39m 3.1.1       \u001b[32mv\u001b[39m \u001b[34mpurrr  \u001b[39m 0.3.2  \n",
      "\u001b[32mv\u001b[39m \u001b[34mtibble \u001b[39m 2.1.1       \u001b[32mv\u001b[39m \u001b[34mdplyr  \u001b[39m 0.8.0.\u001b[31m1\u001b[39m\n",
      "\u001b[32mv\u001b[39m \u001b[34mtidyr  \u001b[39m 0.8.3       \u001b[32mv\u001b[39m \u001b[34mstringr\u001b[39m 1.4.0  \n",
      "\u001b[32mv\u001b[39m \u001b[34mreadr  \u001b[39m 1.3.1       \u001b[32mv\u001b[39m \u001b[34mforcats\u001b[39m 0.4.0  \n",
      "\n",
      "-- \u001b[1mConflicts\u001b[22m ------------------------------------------ tidyverse_conflicts() --\n",
      "\u001b[31mx\u001b[39m \u001b[34mdplyr\u001b[39m::\u001b[32mfilter()\u001b[39m masks \u001b[34mstats\u001b[39m::filter()\n",
      "\u001b[31mx\u001b[39m \u001b[34mdplyr\u001b[39m::\u001b[32mlag()\u001b[39m    masks \u001b[34mstats\u001b[39m::lag()\n",
      "\n"
     ]
    }
   ],
   "source": [
    "library(tidyverse)"
   ]
  },
  {
   "cell_type": "markdown",
   "id": "d0486091",
   "metadata": {},
   "source": [
    "Q.1\n",
    "* We have use the following dataset in the course material to generate two datasets form the same distribution but which have different sample means\n",
    "  * here I am generating only 5 samples, insteaf of the 40 generated in the course material"
   ]
  },
  {
   "cell_type": "markdown",
   "id": "85aca64d",
   "metadata": {},
   "source": [
    "#Gina and Cecile practical together"
   ]
  },
  {
   "cell_type": "code",
   "execution_count": 48,
   "id": "3b0a10f7",
   "metadata": {},
   "outputs": [
    {
     "data": {
      "text/html": [
       "<table>\n",
       "<thead><tr><th scope=col>measure</th><th scope=col>site_name</th></tr></thead>\n",
       "<tbody>\n",
       "\t<tr><td>10.291195</td><td>Site 1   </td></tr>\n",
       "\t<tr><td>11.388863</td><td>Site 1   </td></tr>\n",
       "\t<tr><td>10.649010</td><td>Site 1   </td></tr>\n",
       "\t<tr><td>11.477876</td><td>Site 1   </td></tr>\n",
       "\t<tr><td>10.438720</td><td>Site 1   </td></tr>\n",
       "\t<tr><td>10.522318</td><td>Site 2   </td></tr>\n",
       "\t<tr><td> 9.955392</td><td>Site 2   </td></tr>\n",
       "\t<tr><td>11.484413</td><td>Site 2   </td></tr>\n",
       "\t<tr><td> 8.408989</td><td>Site 2   </td></tr>\n",
       "\t<tr><td>10.225640</td><td>Site 2   </td></tr>\n",
       "</tbody>\n",
       "</table>\n"
      ],
      "text/latex": [
       "\\begin{tabular}{r|ll}\n",
       " measure & site\\_name\\\\\n",
       "\\hline\n",
       "\t 10.291195 & Site 1   \\\\\n",
       "\t 11.388863 & Site 1   \\\\\n",
       "\t 10.649010 & Site 1   \\\\\n",
       "\t 11.477876 & Site 1   \\\\\n",
       "\t 10.438720 & Site 1   \\\\\n",
       "\t 10.522318 & Site 2   \\\\\n",
       "\t  9.955392 & Site 2   \\\\\n",
       "\t 11.484413 & Site 2   \\\\\n",
       "\t  8.408989 & Site 2   \\\\\n",
       "\t 10.225640 & Site 2   \\\\\n",
       "\\end{tabular}\n"
      ],
      "text/markdown": [
       "\n",
       "| measure | site_name |\n",
       "|---|---|\n",
       "| 10.291195 | Site 1    |\n",
       "| 11.388863 | Site 1    |\n",
       "| 10.649010 | Site 1    |\n",
       "| 11.477876 | Site 1    |\n",
       "| 10.438720 | Site 1    |\n",
       "| 10.522318 | Site 2    |\n",
       "|  9.955392 | Site 2    |\n",
       "| 11.484413 | Site 2    |\n",
       "|  8.408989 | Site 2    |\n",
       "| 10.225640 | Site 2    |\n",
       "\n"
      ],
      "text/plain": [
       "   measure   site_name\n",
       "1  10.291195 Site 1   \n",
       "2  11.388863 Site 1   \n",
       "3  10.649010 Site 1   \n",
       "4  11.477876 Site 1   \n",
       "5  10.438720 Site 1   \n",
       "6  10.522318 Site 2   \n",
       "7   9.955392 Site 2   \n",
       "8  11.484413 Site 2   \n",
       "9   8.408989 Site 2   \n",
       "10 10.225640 Site 2   "
      ]
     },
     "metadata": {},
     "output_type": "display_data"
    }
   ],
   "source": [
    "set.seed(110)\n",
    "data_1 = tibble(measure=rnorm(5, 10, 1))\n",
    "data_1$site_name <- 'Site 1'\n",
    "data_2 = tibble(measure=rnorm(5, 10, 1))\n",
    "data_2$site_name <- 'Site 2'\n",
    "complete_data = rbind(data_1, data_2)\n",
    "complete_data"
   ]
  },
  {
   "cell_type": "code",
   "execution_count": 49,
   "id": "dde6ba00",
   "metadata": {},
   "outputs": [
    {
     "data": {
      "text/html": [
       "10.8491329008612"
      ],
      "text/latex": [
       "10.8491329008612"
      ],
      "text/markdown": [
       "10.8491329008612"
      ],
      "text/plain": [
       "[1] 10.84913"
      ]
     },
     "metadata": {},
     "output_type": "display_data"
    },
    {
     "data": {
      "text/html": [
       "10.1193505444919"
      ],
      "text/latex": [
       "10.1193505444919"
      ],
      "text/markdown": [
       "10.1193505444919"
      ],
      "text/plain": [
       "[1] 10.11935"
      ]
     },
     "metadata": {},
     "output_type": "display_data"
    }
   ],
   "source": [
    "mean(complete_data[complete_data$site_name == \"Site 1\", ]$measure)\n",
    "mean(complete_data[complete_data$site_name == \"Site 2\", ]$measure)"
   ]
  },
  {
   "cell_type": "markdown",
   "id": "1ac520b8",
   "metadata": {},
   "source": [
    "* Use the `tapply` function instead of the code above to compute the means samples from \"Site 1\" and those from site 2\n",
    "  * See tapply for help if needed"
   ]
  },
  {
   "cell_type": "code",
   "execution_count": 50,
   "id": "501355df",
   "metadata": {},
   "outputs": [
    {
     "data": {
      "text/html": [
       "<dl class=dl-horizontal>\n",
       "\t<dt>Site 1</dt>\n",
       "\t\t<dd>10.8491329008612</dd>\n",
       "\t<dt>Site 2</dt>\n",
       "\t\t<dd>10.1193505444919</dd>\n",
       "</dl>\n"
      ],
      "text/latex": [
       "\\begin{description*}\n",
       "\\item[Site 1] 10.8491329008612\n",
       "\\item[Site 2] 10.1193505444919\n",
       "\\end{description*}\n"
      ],
      "text/markdown": [
       "Site 1\n",
       ":   10.8491329008612Site 2\n",
       ":   10.1193505444919\n",
       "\n"
      ],
      "text/plain": [
       "  Site 1   Site 2 \n",
       "10.84913 10.11935 "
      ]
     },
     "metadata": {},
     "output_type": "display_data"
    }
   ],
   "source": [
    "# Write your code here\n",
    "\n",
    "tapply(complete_data$measure, complete_data$site_name, mean)"
   ]
  },
  {
   "cell_type": "markdown",
   "id": "fd91de00",
   "metadata": {},
   "source": [
    "Q.2 \n",
    "Recall that the test conducted on full version of data_1 and data_2 led us to conlclude that the difference between the two datasets is statistically significant, when both samples were in fact from the same distirbution  $\\mathcal{N}(\\mu=10, \\sigma=1)$\n",
    "\n",
    "* Use the boostrapping-based test covered in class to assess whether you arrive at the same conclusion\n",
    "\n",
    "* You can generate the data using the code snippet below\n",
    "\n"
   ]
  },
  {
   "cell_type": "code",
   "execution_count": 77,
   "id": "f129769f",
   "metadata": {},
   "outputs": [],
   "source": [
    "set.seed(110)\n",
    "data_1 = tibble(measure=rnorm(40, 10, 1))\n",
    "data_1$site_name <- 'Site 1'\n",
    "data_2 = tibble(measure=rnorm(40, 13, 1))\n",
    "data_2$site_name <- 'Site 2'\n",
    "complete_data = rbind(data_1, data_2)\n"
   ]
  },
  {
   "cell_type": "code",
   "execution_count": 78,
   "id": "6fd0e510",
   "metadata": {},
   "outputs": [
    {
     "data": {
      "image/png": "[encoded data removed]",
      "text/plain": [
       "plot without title"
      ]
     },
     "metadata": {
      "image/png": {
       "height": 420,
       "width": 420
      }
     },
     "output_type": "display_data"
    }
   ],
   "source": [
    "ggplot(complete_data, aes(x=measure, fill = site_name)) + \n",
    "  geom_density(alpha = 0.4, bw =0.60) + \n",
    "  xlim(5,18)\n"
   ]
  },
  {
   "cell_type": "code",
   "execution_count": 79,
   "id": "2b4bbf21",
   "metadata": {},
   "outputs": [],
   "source": [
    "bootstrap_concat = function(data_1, data_2){\n",
    "  \n",
    "  concat_data = c(data_1, data_2)\n",
    "  len_concat_data = length(concat_data)\n",
    "  \n",
    "  len_data_1 = length(data_1)    \n",
    "  shuffled_data = sample(concat_data)\n",
    "  new_data_1 = shuffled_data[1:len_data_1]\n",
    "  new_data_2 = shuffled_data[(len_data_1+1):len_concat_data]\n",
    "  mean(new_data_1) - mean(new_data_2)\n",
    "}"
   ]
  },
  {
   "cell_type": "code",
   "execution_count": 80,
   "id": "64cd9513",
   "metadata": {},
   "outputs": [
    {
     "data": {
      "text/html": [
       "-0.151343542418616"
      ],
      "text/latex": [
       "-0.151343542418616"
      ],
      "text/markdown": [
       "-0.151343542418616"
      ],
      "text/plain": [
       "[1] -0.1513435"
      ]
     },
     "metadata": {},
     "output_type": "display_data"
    },
    {
     "data": {
      "text/html": [
       "-2.553808107795"
      ],
      "text/latex": [
       "-2.553808107795"
      ],
      "text/markdown": [
       "-2.553808107795"
      ],
      "text/plain": [
       "[1] -2.553808"
      ]
     },
     "metadata": {},
     "output_type": "display_data"
    }
   ],
   "source": [
    "set.seed(110)\n",
    "bootstrap_concat(data_1$measure, data_2$measure)\n",
    "mean_under_null = replicate(1000, bootstrap_concat(data_1$measure, data_2$measure))\n",
    "\n",
    "observed_value = mean(data_1$measure) - mean(data_2$measure)\n",
    "observed_value"
   ]
  },
  {
   "cell_type": "code",
   "execution_count": 81,
   "id": "d1795c60",
   "metadata": {},
   "outputs": [
    {
     "data": {
      "image/png": "[encoded data removed]",
      "text/plain": [
       "plot without title"
      ]
     },
     "metadata": {
      "image/png": {
       "height": 420,
       "width": 420
      }
     },
     "output_type": "display_data"
    }
   ],
   "source": [
    "ggplot()+\n",
    "  geom_histogram(aes(mean_under_null, y=..density..), bins =30, alpha=0.2, color=\"black\") + \n",
    "  geom_density(aes(mean_under_null), bw=.3, size=0.5) + \n",
    "  xlim(-5, 5) + \n",
    "  geom_point(aes(observed_value, 0), color=\"red\", size=5)"
   ]
  },
  {
   "cell_type": "code",
   "execution_count": 82,
   "id": "08f0fa6e",
   "metadata": {},
   "outputs": [
    {
     "data": {
      "text/html": [
       "0"
      ],
      "text/latex": [
       "0"
      ],
      "text/markdown": [
       "0"
      ],
      "text/plain": [
       "[1] 0"
      ]
     },
     "metadata": {},
     "output_type": "display_data"
    }
   ],
   "source": [
    "set.seed(110)\n",
    "sum(mean_under_null <= observed_value) / length(mean_under_null)"
   ]
  },
  {
   "cell_type": "markdown",
   "id": "71226301",
   "metadata": {},
   "source": [
    "Q.3 \n",
    "\n",
    "* The proportion of the of _P. lobata_, _M. capitata_ and _P. mendrina_ at a site X are c(0.60, 0.19, 0.21).\n",
    "* You surveyed a site Y with somewhat differentenvironmental conditions and obtains the following proportions for the same coral (0.61, 0.19, 0.20). Use the multinomial non-parameteric hypotheses test to assess the proportions obtained at sites X and Y are statistically differnet\n",
    "\n"
   ]
  },
  {
   "cell_type": "code",
   "execution_count": 18,
   "id": "693bcb80",
   "metadata": {},
   "outputs": [
    {
     "data": {
      "text/html": [
       "<table>\n",
       "<thead><tr><th scope=col>coral_sp</th><th scope=col>ratios</th></tr></thead>\n",
       "<tbody>\n",
       "\t<tr><td>P. lobata  </td><td>0.60       </td></tr>\n",
       "\t<tr><td>P. lobata  </td><td>0.61       </td></tr>\n",
       "\t<tr><td>M. capitata</td><td>0.19       </td></tr>\n",
       "\t<tr><td>M. capitata</td><td>0.19       </td></tr>\n",
       "\t<tr><td>P. mendrina</td><td>0.21       </td></tr>\n",
       "\t<tr><td>P. mendrina</td><td>0.20       </td></tr>\n",
       "</tbody>\n",
       "</table>\n"
      ],
      "text/latex": [
       "\\begin{tabular}{r|ll}\n",
       " coral\\_sp & ratios\\\\\n",
       "\\hline\n",
       "\t P. lobata   & 0.60       \\\\\n",
       "\t P. lobata   & 0.61       \\\\\n",
       "\t M. capitata & 0.19       \\\\\n",
       "\t M. capitata & 0.19       \\\\\n",
       "\t P. mendrina & 0.21       \\\\\n",
       "\t P. mendrina & 0.20       \\\\\n",
       "\\end{tabular}\n"
      ],
      "text/markdown": [
       "\n",
       "| coral_sp | ratios |\n",
       "|---|---|\n",
       "| P. lobata   | 0.60        |\n",
       "| P. lobata   | 0.61        |\n",
       "| M. capitata | 0.19        |\n",
       "| M. capitata | 0.19        |\n",
       "| P. mendrina | 0.21        |\n",
       "| P. mendrina | 0.20        |\n",
       "\n"
      ],
      "text/plain": [
       "  coral_sp    ratios\n",
       "1 P. lobata   0.60  \n",
       "2 P. lobata   0.61  \n",
       "3 M. capitata 0.19  \n",
       "4 M. capitata 0.19  \n",
       "5 P. mendrina 0.21  \n",
       "6 P. mendrina 0.20  "
      ]
     },
     "metadata": {},
     "output_type": "display_data"
    }
   ],
   "source": [
    "coral_sp = c(\"P. lobata\",\"P. lobata\", \"M. capitata\", \"M. capitata\", \"P. mendrina\",\"P. mendrina\")\n",
    "ratios =c(0.60, 0.61, 0.19, 0.19, 0.21, 0.20)\n",
    "coral_proportions = tibble(coral_sp, ratios)\n",
    "coral_proportions"
   ]
  },
  {
   "cell_type": "code",
   "execution_count": 35,
   "id": "6a6bc63d",
   "metadata": {},
   "outputs": [
    {
     "data": {
      "text/html": [
       "0.03"
      ],
      "text/latex": [
       "0.03"
      ],
      "text/markdown": [
       "0.03"
      ],
      "text/plain": [
       "[1] 0.03"
      ]
     },
     "metadata": {},
     "output_type": "display_data"
    }
   ],
   "source": [
    "coral_multinom = function(){\n",
    "  X_proportions = c(0.60,0.19,0.21)\n",
    "  Y_proportions = rmultinom(1, 200, prob=c(0.61,0.19,0.20))/200\n",
    "  sample_tvd = sum(abs(X_proportions- Y_proportions))/2\n",
    "  sample_tvd\n",
    "}\n",
    "coral_multinom()"
   ]
  },
  {
   "cell_type": "code",
   "execution_count": 45,
   "id": "6532e398",
   "metadata": {},
   "outputs": [],
   "source": [
    "subtract_abs = function(x){\n",
    "  abs(x[1] - x[2])\n",
    "}"
   ]
  },
  {
   "cell_type": "code",
   "execution_count": 37,
   "id": "4cfff6f7",
   "metadata": {},
   "outputs": [
    {
     "data": {
      "text/html": [
       "<dl class=dl-horizontal>\n",
       "\t<dt>M. capitata</dt>\n",
       "\t\t<dd>0</dd>\n",
       "\t<dt>P. lobata</dt>\n",
       "\t\t<dd>0.01</dd>\n",
       "\t<dt>P. mendrina</dt>\n",
       "\t\t<dd>0.00999999999999998</dd>\n",
       "</dl>\n"
      ],
      "text/latex": [
       "\\begin{description*}\n",
       "\\item[M. capitata] 0\n",
       "\\item[P. lobata] 0.01\n",
       "\\item[P. mendrina] 0.00999999999999998\n",
       "\\end{description*}\n"
      ],
      "text/markdown": [
       "M. capitata\n",
       ":   0P. lobata\n",
       ":   0.01P. mendrina\n",
       ":   0.00999999999999998\n",
       "\n"
      ],
      "text/plain": [
       "M. capitata   P. lobata P. mendrina \n",
       "       0.00        0.01        0.01 "
      ]
     },
     "metadata": {},
     "output_type": "display_data"
    }
   ],
   "source": [
    "tapply(coral_proportions$ratios, coral_proportions$coral_sp, subtract_abs)"
   ]
  },
  {
   "cell_type": "code",
   "execution_count": 43,
   "id": "621e3f15",
   "metadata": {
    "scrolled": true
   },
   "outputs": [
    {
     "data": {
      "text/html": [
       "0.01"
      ],
      "text/latex": [
       "0.01"
      ],
      "text/markdown": [
       "0.01"
      ],
      "text/plain": [
       "[1] 0.01"
      ]
     },
     "metadata": {},
     "output_type": "display_data"
    }
   ],
   "source": [
    "observed_stat = sum(tapply(coral_proportions$ratios, coral_proportions$coral_sp, subtract_abs))/2\n",
    "observed_stat"
   ]
  },
  {
   "cell_type": "code",
   "execution_count": 41,
   "id": "f16bb932",
   "metadata": {},
   "outputs": [],
   "source": [
    "tvds = replicate(1000, coral_multinom())"
   ]
  },
  {
   "cell_type": "code",
   "execution_count": 42,
   "id": "c7b242fe",
   "metadata": {},
   "outputs": [
    {
     "data": {
      "text/html": [
       "0.955"
      ],
      "text/latex": [
       "0.955"
      ],
      "text/markdown": [
       "0.955"
      ],
      "text/plain": [
       "[1] 0.955"
      ]
     },
     "metadata": {},
     "output_type": "display_data"
    }
   ],
   "source": [
    "p_value = sum(tvds > observed_stat)/length(tvds)\n",
    "p_value\n"
   ]
  },
  {
   "cell_type": "code",
   "execution_count": 46,
   "id": "eddca75d",
   "metadata": {},
   "outputs": [
    {
     "data": {
      "image/png": "[encoded data removed]",
      "text/plain": [
       "plot without title"
      ]
     },
     "metadata": {
      "image/png": {
       "height": 420,
       "width": 420
      }
     },
     "output_type": "display_data"
    }
   ],
   "source": [
    "ggplot()+ \n",
    "  geom_histogram(aes(tvds, ..density..), bins = 15) +\n",
    "  geom_point(aes(observed_stat, 0), size=5, color=\"red\")"
   ]
  },
  {
   "cell_type": "code",
   "execution_count": 85,
   "id": "915eec82",
   "metadata": {},
   "outputs": [
    {
     "data": {
      "text/html": [
       "0.045"
      ],
      "text/latex": [
       "0.045"
      ],
      "text/markdown": [
       "0.045"
      ],
      "text/plain": [
       "[1] 0.045"
      ]
     },
     "metadata": {},
     "output_type": "display_data"
    }
   ],
   "source": [
    "sum(tvds <= observed_stat) / length(tvds)"
   ]
  },
  {
   "cell_type": "code",
   "execution_count": null,
   "id": "78e90f18",
   "metadata": {},
   "outputs": [],
   "source": []
  }
 ],
 "metadata": {
  "kernelspec": {
   "display_name": "R",
   "language": "R",
   "name": "ir"
  },
  "language_info": {
   "codemirror_mode": "r",
   "file_extension": ".r",
   "mimetype": "text/x-r-source",
   "name": "R",
   "pygments_lexer": "r",
   "version": "3.6.1"
  }
 },
 "nbformat": 4,
 "nbformat_minor": 5
}
